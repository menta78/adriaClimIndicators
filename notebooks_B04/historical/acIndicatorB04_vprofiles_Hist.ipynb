{
 "cells": [
  {
   "cell_type": "markdown",
   "id": "49678145",
   "metadata": {},
   "source": [
    "# Compute Brunt-Vaisala Frequency indicator"
   ]
  },
  {
   "cell_type": "code",
   "execution_count": 1,
   "id": "e07a80ce",
   "metadata": {
    "scrolled": true
   },
   "outputs": [],
   "source": [
    "%load_ext autoreload\n",
    "%autoreload 2 \n",
    "%matplotlib inline\n",
    "\n",
    "import xarray as xr\n",
    "import matplotlib.pyplot as plt\n",
    "import pandas as pd\n",
    "import numpy as np\n",
    "from acIndUtils import acIndUtils, acIndBruntVaisGraphicUtils"
   ]
  },
  {
   "cell_type": "markdown",
   "id": "4a47d62e",
   "metadata": {},
   "source": [
    "### Loading the perimeter of the area of interest"
   ]
  },
  {
   "cell_type": "code",
   "execution_count": 2,
   "id": "3e1c20c2",
   "metadata": {},
   "outputs": [],
   "source": [
    "areaPerimeter = pd.read_csv(\"areas/areaAdriatic.csv\")\n",
    "verticalLevels = -np.arange(0, 100, 2)\n",
    "maxDepth = -100 # max depth for vertical profiles"
   ]
  },
  {
   "cell_type": "markdown",
   "id": "7f75edf2",
   "metadata": {},
   "source": [
    "### Reading raw Brunt-Vaisala frequency data "
   ]
  },
  {
   "cell_type": "code",
   "execution_count": 3,
   "id": "0fd7437a",
   "metadata": {},
   "outputs": [
    {
     "name": "stdout",
     "output_type": "stream",
     "text": [
      "  ncFileName: /Users/jalessandri/ADRIACLIM/Indicators/Brunt-Vaisala-Historical/Historical_Nemo/Brunt-Vaisala/AdriaClim_BVF_Hist.nc\n",
      "  varName: BVF\n",
      "  xVarName: lon\n",
      "  yVarName: lat\n",
      "  zVarName: depth\n",
      "  tVarName: time_counter\n"
     ]
    }
   ],
   "source": [
    "SrawDataFileSpec = acIndUtils.acNcFileSpec(\n",
    "    ncFileName=\"/Users/jalessandri/ADRIACLIM/Indicators/Brunt-Vaisala-Historical/Historical_Nemo/Brunt-Vaisala/AdriaClim_BVF_Hist.nc\", \n",
    "    varName=\"BVF\", xVarName=\"lon\", yVarName=\"lat\", zVarName=\"depth\", tVarName=\"time_counter\" )\n",
    "SrawDataFileSpec.printSpec()\n",
    "SncClippedDataFileSpec = acIndUtils.acCloneFileSpec(SrawDataFileSpec, ncFileName=\"bvfClippedData.nc\")\n",
    "SannualMapsNcFileSpec = acIndUtils.acCloneFileSpec(SncClippedDataFileSpec, ncFileName=\"bvfClippedAnnualMean.nc\", tVarName=\"year\")\n",
    "SwinterMapsNcFileSpec = acIndUtils.acCloneFileSpec(SannualMapsNcFileSpec, ncFileName=\"bvfClippedWinterMean.nc\")\n",
    "SsummerMapsNcFileSpec = acIndUtils.acCloneFileSpec(SannualMapsNcFileSpec, ncFileName=\"bvfClippedSummerMean.nc\")\n",
    "StrendMapNcSpec = acIndUtils.acCloneFileSpec(SannualMapsNcFileSpec, ncFileName=\"bvfTrendMap.nc\")"
   ]
  },
  {
   "cell_type": "markdown",
   "id": "d8733cfa",
   "metadata": {},
   "source": [
    "### Generating pre-aggregates"
   ]
  },
  {
   "cell_type": "code",
   "execution_count": null,
   "id": "13f1ed7b",
   "metadata": {
    "scrolled": true
   },
   "outputs": [],
   "source": [
    "\"\"\"\n",
    "clipping the input data over the area of interest (may require some time)\n",
    "\"\"\"\n",
    "clippedData = acIndUtils.acClipDataOnRegion(SrawDataFileSpec, areaPerimeter, SncClippedDataFileSpec.ncFileName)"
   ]
  },
  {
   "cell_type": "code",
   "execution_count": 4,
   "id": "e5097ca9",
   "metadata": {},
   "outputs": [
    {
     "name": "stdout",
     "output_type": "stream",
     "text": [
      "done\n"
     ]
    }
   ],
   "source": [
    "\"\"\"\n",
    "Generating the temporary nc file with the annual means\n",
    "\"\"\"\n",
    "acIndUtils.acGenerateAnnualMeanMaps(SncClippedDataFileSpec, SannualMapsNcFileSpec.ncFileName)\n",
    "print(\"done\")"
   ]
  },
  {
   "cell_type": "code",
   "execution_count": null,
   "id": "542adaaa",
   "metadata": {},
   "outputs": [],
   "source": [
    "\"\"\"\n",
    "Generating the temporary nc file with the winter means\n",
    "\"\"\"\n",
    "acIndUtils.acGenerateSeasonalWinter(SncClippedDataFileSpec, SwinterMapsNcFileSpec.ncFileName)\n",
    "print(\"done\")"
   ]
  },
  {
   "cell_type": "code",
   "execution_count": null,
   "id": "36ab5325",
   "metadata": {
    "scrolled": true
   },
   "outputs": [],
   "source": [
    "\"\"\"\n",
    "Generating the temporary nc file with the summer means\n",
    "\"\"\"\n",
    "acIndUtils.acGenerateSeasonalSummer(SncClippedDataFileSpec, SsummerMapsNcFileSpec.ncFileName)\n",
    "print(\"done\")"
   ]
  },
  {
   "cell_type": "code",
   "execution_count": 5,
   "id": "8e4a4003",
   "metadata": {},
   "outputs": [
    {
     "name": "stdout",
     "output_type": "stream",
     "text": [
      "done\n"
     ]
    }
   ],
   "source": [
    "\"\"\"\n",
    "Generating the temporary nc file with the map of trend.\n",
    "\"\"\"\n",
    "acIndUtils.acComputeSenSlope3DMap(SannualMapsNcFileSpec, StrendMapNcSpec.ncFileName)\n",
    "print(\"done\")\n"
   ]
  },
  {
   "cell_type": "markdown",
   "id": "5faacd1e",
   "metadata": {},
   "source": [
    "### Visualize Brunt-Vaisala frequency profiles"
   ]
  },
  {
   "cell_type": "code",
   "execution_count": null,
   "id": "ea9f53d0",
   "metadata": {
    "scrolled": false
   },
   "outputs": [],
   "source": [
    "\"\"\"\n",
    "Vertical mean profiles of salinity: annual, winter, summer\n",
    "\"\"\"\n",
    "outvert=\"/Users/jalessandri/ADRIACLIM/Indicators/Brunt-Vaisala-Historical/BVF_profile_hist_NAdr\"\n",
    "\n",
    "figVProf = acIndBruntVaisGraphicUtils.acBruntVaisPlotVProfileAll(SannualMapsNcFileSpec, SsummerMapsNcFileSpec, SwinterMapsNcFileSpec,\\\n",
    "                                                                 maxDepth, psuLims=(0,13), zlevs=verticalLevels, csv=True, pth=outvert)"
   ]
  },
  {
   "cell_type": "code",
   "execution_count": null,
   "id": "5d2b761f",
   "metadata": {},
   "outputs": [],
   "source": [
    "\"\"\"\n",
    "Trend of salinity, vertical profile\n",
    "\"\"\"\n",
    "outvert=\"/Users/jalessandri/ADRIACLIM/Indicators/Brunt-Vaisala-Historical/BVF_profile_hist_NAdr\"\n",
    "\n",
    "figVProfTrend = acIndBruntVaisGraphicUtils.acBruntVaisPlotVProfileTrend(StrendMapNcSpec, maxDepth, zlevs=verticalLevels, \\\n",
    "                                                                        psuLims=(-0.35,0.2) , csv=True, pth=outvert) "
   ]
  },
  {
   "cell_type": "code",
   "execution_count": null,
   "id": "98f7248a",
   "metadata": {},
   "outputs": [],
   "source": []
  }
 ],
 "metadata": {
  "kernelspec": {
   "display_name": "Python 3 (ipykernel)",
   "language": "python",
   "name": "python3"
  },
  "language_info": {
   "codemirror_mode": {
    "name": "ipython",
    "version": 3
   },
   "file_extension": ".py",
   "mimetype": "text/x-python",
   "name": "python",
   "nbconvert_exporter": "python",
   "pygments_lexer": "ipython3",
   "version": "3.9.13"
  }
 },
 "nbformat": 4,
 "nbformat_minor": 5
}
